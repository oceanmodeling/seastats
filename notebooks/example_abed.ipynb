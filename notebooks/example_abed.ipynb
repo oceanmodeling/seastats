{
 "cells": [
  {
   "cell_type": "code",
   "execution_count": null,
   "metadata": {},
   "outputs": [],
   "source": [
    "import pandas as pd\n",
    "import holoviews as hv\n",
    "import hvplot.pandas\n",
    "\n",
    "from seastats.stats import get_stats"
   ]
  },
  {
   "cell_type": "markdown",
   "metadata": {},
   "source": [
    "## load files "
   ]
  },
  {
   "cell_type": "code",
   "execution_count": null,
   "metadata": {},
   "outputs": [],
   "source": [
    "sim = pd.read_parquet('../tests/data/abed_sim.parquet')\n",
    "obs = pd.read_parquet('../tests/data/abed_obs.parquet')"
   ]
  },
  {
   "cell_type": "code",
   "execution_count": null,
   "metadata": {},
   "outputs": [],
   "source": [
    "# sim and obs need to be Series\n",
    "obs = obs[obs.columns[0]]\n",
    "sim = sim[sim.columns[0]]"
   ]
  },
  {
   "cell_type": "code",
   "execution_count": null,
   "metadata": {},
   "outputs": [],
   "source": [
    "obs.hvplot(line_dash = \"dashed\") * sim.hvplot()"
   ]
  },
  {
   "cell_type": "markdown",
   "metadata": {},
   "source": [
    "## Basic metrics\n",
    "comparing `obs` pd.Series with `sim` pd.Series"
   ]
  },
  {
   "cell_type": "code",
   "execution_count": null,
   "metadata": {},
   "outputs": [],
   "source": [
    "stats = get_stats(obs, sim)\n",
    "pd.DataFrame(stats, index = ['abed'])"
   ]
  },
  {
   "cell_type": "markdown",
   "metadata": {},
   "source": [
    "## Storm analysis"
   ]
  },
  {
   "cell_type": "code",
   "execution_count": null,
   "metadata": {},
   "outputs": [],
   "source": [
    "from seastats.storms import storm_metrics\n",
    "from pyextremes import get_extremes\n",
    "\n",
    "quantile = 0.99\n",
    "cluster_duration = 72"
   ]
  },
  {
   "cell_type": "markdown",
   "metadata": {},
   "source": [
    "modeled extremes"
   ]
  },
  {
   "cell_type": "code",
   "execution_count": null,
   "metadata": {},
   "outputs": [],
   "source": [
    "threshold = sim.quantile(quantile)\n",
    "ext_ = get_extremes(sim, \"POT\", threshold=threshold, r=f\"{cluster_duration}h\")\n",
    "extremes1 = pd.DataFrame({\"modeled\" : ext_, \"time_model\" : ext_.index}, index=ext_.index)\n",
    "ext_"
   ]
  },
  {
   "cell_type": "code",
   "execution_count": null,
   "metadata": {},
   "outputs": [],
   "source": [
    "sim_plot = sim.hvplot() * hv.Scatter((extremes1.index, extremes1.modeled)).opts(color=\"red\")\n",
    "sim_plot"
   ]
  },
  {
   "cell_type": "markdown",
   "metadata": {},
   "source": [
    "observed extremes"
   ]
  },
  {
   "cell_type": "code",
   "execution_count": null,
   "metadata": {},
   "outputs": [],
   "source": [
    "threshold = obs.quantile(quantile)\n",
    "ext_ = get_extremes(obs, \"POT\", threshold=threshold, r=f\"{cluster_duration}h\")\n",
    "extremes2 = pd.DataFrame({\"modeled\" : ext_, \"time_model\" : ext_.index}, index=ext_.index)\n",
    "ext_"
   ]
  },
  {
   "cell_type": "code",
   "execution_count": null,
   "metadata": {},
   "outputs": [],
   "source": [
    "obs_plot = obs.hvplot(line_dash = \"dashed\") * hv.Scatter((extremes2.index, extremes2.modeled)).opts(color=\"red\")\n",
    "obs_plot"
   ]
  },
  {
   "cell_type": "markdown",
   "metadata": {},
   "source": [
    "match extremes"
   ]
  },
  {
   "cell_type": "code",
   "execution_count": null,
   "metadata": {},
   "outputs": [],
   "source": [
    "from seastats.storms import match_extremes\n",
    "extremes_df = match_extremes(sim, obs, 0.99, cluster = 72)\n",
    "extremes_df"
   ]
  },
  {
   "cell_type": "code",
   "execution_count": null,
   "metadata": {},
   "outputs": [],
   "source": [
    "hv.Points(\n",
    "    extremes_df[['tdiff','diff']].rename(columns={'tdiff':'time difference (hours)','diff':'peak difference (m)'}), \n",
    "    kdims=['time difference (hours)','peak difference (m)']).opts(\n",
    "    size = 8, tools = ['hover']\n",
    "    )"
   ]
  },
  {
   "cell_type": "markdown",
   "metadata": {},
   "source": [
    "we defined the following metrics for the storms events: \n",
    "\n",
    "* `R1`/`R3`/`error_metric`: we select the biggest observated storms, and then calculate error (so the absolute value of differenc between the model and the observed peaks)\n",
    "  * `R1` is the error for the biggest storm\n",
    "  * `R3` is the mean error for the 3 biggest storms\n",
    "  * `error_metric` is the mean error for all the storms above the threshold.\n",
    "\n",
    "* `R1_norm`/`R3_norm`/`error`: Same methodology, but values are in normalised (in %) by the observed peaks."
   ]
  },
  {
   "cell_type": "code",
   "execution_count": null,
   "metadata": {},
   "outputs": [],
   "source": [
    "metrics = storm_metrics(sim, obs, quantile=0.99, cluster=72)\n",
    "pd.DataFrame(dict(stats, **metrics), index=['abed'])"
   ]
  }
 ],
 "metadata": {
  "kernelspec": {
   "display_name": ".venv",
   "language": "python",
   "name": "python3"
  },
  "language_info": {
   "codemirror_mode": {
    "name": "ipython",
    "version": 3
   },
   "file_extension": ".py",
   "mimetype": "text/x-python",
   "name": "python",
   "nbconvert_exporter": "python",
   "pygments_lexer": "ipython3",
   "version": "3.12.4"
  }
 },
 "nbformat": 4,
 "nbformat_minor": 2
}
