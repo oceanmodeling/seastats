{
 "cells": [
  {
   "cell_type": "code",
   "execution_count": null,
   "metadata": {},
   "outputs": [],
   "source": [
    "import pandas as pd\n",
    "import holoviews as hv\n",
    "import hvplot.pandas\n",
    "\n",
    "from seastats.stats import get_stats"
   ]
  },
  {
   "cell_type": "markdown",
   "metadata": {},
   "source": [
    "## load files "
   ]
  },
  {
   "cell_type": "code",
   "execution_count": null,
   "metadata": {},
   "outputs": [],
   "source": [
    "sim = pd.read_parquet('../tests/data/abed_sim.parquet')\n",
    "obs = pd.read_parquet('../tests/data/abed_obs.parquet')"
   ]
  },
  {
   "cell_type": "code",
   "execution_count": null,
   "metadata": {},
   "outputs": [],
   "source": [
    "# sim and obs need to be Series\n",
    "obs = obs[obs.columns[0]]\n",
    "sim = sim[sim.columns[0]]"
   ]
  },
  {
   "cell_type": "code",
   "execution_count": null,
   "metadata": {},
   "outputs": [],
   "source": [
    "obs.hvplot(line_dash = \"dashed\") * sim.hvplot()"
   ]
  },
  {
   "cell_type": "markdown",
   "metadata": {},
   "source": [
    "## Basic metrics"
   ]
  },
  {
   "cell_type": "code",
   "execution_count": null,
   "metadata": {},
   "outputs": [],
   "source": [
    "stats = get_stats(obs, sim)\n",
    "stats"
   ]
  },
  {
   "cell_type": "markdown",
   "metadata": {},
   "source": [
    "## storm metrics"
   ]
  },
  {
   "cell_type": "markdown",
   "metadata": {},
   "source": [
    "we defined the following metrics for the storms events: \n",
    "\n",
    "* `R1`/`R3`/`error_metric`: we select the biggest observated storms, and then calculate error (so the absolute value of differenc between the model and the observed peaks)\n",
    "  * `R1` is the error for the biggest storm\n",
    "  * `R3` is the mean error for the 3 biggest storms\n",
    "  * `error_metric` is the mean error for all the storms above the threshold.\n",
    "\n",
    "* `R1_norm`/`R3_norm`/`error`: Same methodology, but values are in normalised (in %) by the observed peaks."
   ]
  },
  {
   "cell_type": "code",
   "execution_count": null,
   "metadata": {},
   "outputs": [],
   "source": [
    "from seastats.storms import storm_metrics\n",
    "from pyextremes import get_extremes\n",
    "\n",
    "quantile = 0.99\n",
    "cluster_duration = 72"
   ]
  },
  {
   "cell_type": "code",
   "execution_count": null,
   "metadata": {},
   "outputs": [],
   "source": [
    "# storm metrics\n",
    "metric99 = storm_metrics(sim, obs, quantile=quantile, cluster_duration=cluster_duration)\n",
    "metric99"
   ]
  },
  {
   "cell_type": "code",
   "execution_count": null,
   "metadata": {},
   "outputs": [],
   "source": [
    "threshold = sim.quantile(quantile)\n",
    "ext_ = get_extremes(sim, \"POT\", threshold=threshold, r=f\"{cluster_duration}h\")\n",
    "extremes1 = pd.DataFrame({\"modeled\" : ext_, \"time_model\" : ext_.index}, index=ext_.index)"
   ]
  },
  {
   "cell_type": "code",
   "execution_count": null,
   "metadata": {},
   "outputs": [],
   "source": [
    "storm_plot = sim.hvplot() * hv.Scatter((extremes1.index, extremes1.modeled)).opts(color=\"red\")\n",
    "storm_plot"
   ]
  },
  {
   "cell_type": "code",
   "execution_count": null,
   "metadata": {},
   "outputs": [],
   "source": [
    "threshold = obs.quantile(quantile)\n",
    "ext_ = get_extremes(obs, \"POT\", threshold=threshold, r=f\"{cluster_duration}h\")\n",
    "extremes2 = pd.DataFrame({\"modeled\" : ext_, \"time_model\" : ext_.index}, index=ext_.index)"
   ]
  },
  {
   "cell_type": "code",
   "execution_count": null,
   "metadata": {},
   "outputs": [],
   "source": [
    "storm_plot = obs.hvplot(line_dash = \"dashed\") * hv.Scatter((extremes2.index, extremes2.modeled)).opts(color=\"red\")\n",
    "storm_plot"
   ]
  },
  {
   "cell_type": "markdown",
   "metadata": {},
   "source": [
    "complete the stats dictionary"
   ]
  },
  {
   "cell_type": "code",
   "execution_count": null,
   "metadata": {},
   "outputs": [],
   "source": [
    "metric99 = storm_metrics(sim, obs, quantile=0.99, cluster_duration=72)\n",
    "metric95 = storm_metrics(sim, obs, quantile=0.95, cluster_duration=72)\n",
    "# Create a dictionary for the current version's statistics\n",
    "stats[\"R1\"] = metric99[\"R1\"]\n",
    "stats[\"R1_norm\"] = metric99[\"R1_norm\"]\n",
    "stats[\"R3\"] = metric99[\"R3\"]\n",
    "stats[\"R3_norm\"] = metric99[\"R3_norm\"]\n",
    "stats[\"error99\"] = metric99[\"error\"]\n",
    "stats[\"error99m\"] = metric99[\"error_metric\"]\n",
    "stats[\"error95\"] = metric95[\"error\"]\n",
    "stats[\"error95m\"] = metric95[\"error_metric\"]\n",
    "stats"
   ]
  }
 ],
 "metadata": {
  "kernelspec": {
   "display_name": ".venv",
   "language": "python",
   "name": "python3"
  },
  "language_info": {
   "codemirror_mode": {
    "name": "ipython",
    "version": 3
   },
   "file_extension": ".py",
   "mimetype": "text/x-python",
   "name": "python",
   "nbconvert_exporter": "python",
   "pygments_lexer": "ipython3",
   "version": "3.12.4"
  }
 },
 "nbformat": 4,
 "nbformat_minor": 2
}
